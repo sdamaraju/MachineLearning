{
 "cells": [
  {
   "cell_type": "markdown",
   "metadata": {},
   "source": [
    "## Project - 2 Goal : Probabilistic states and transitions using Hidden Markov Model\n",
    "# Predict Next Text"
   ]
  },
  {
   "cell_type": "markdown",
   "metadata": {},
   "source": [
    "## Steps in Project\n",
    "\n",
    "### 1. Load the engineered input file into dataframes.\n",
    "### 2. Engineering the text data\n",
    "### 3. Algorithm for frequency of pair of consecutive words.\n",
    "### 4. Algorithm for frequency of pair of alternate words.\n",
    "### 5. Probability calculations for pair of words together.\n",
    "### 6. Algorithm for nextTextPredictor\n",
    "### 7. Algorithm for new random text generator"
   ]
  },
  {
   "cell_type": "code",
   "execution_count": 1,
   "metadata": {},
   "outputs": [],
   "source": [
    "## Importing the required datasets.\n",
    "\n",
    "import pandas as pd\n",
    "import numpy as np\n",
    "import string\n",
    "import nltk\n",
    "import re\n",
    "from nltk.corpus import stopwords\n",
    "from nltk.stem.porter import PorterStemmer\n",
    "from decimal import Decimal\n",
    "import random"
   ]
  },
  {
   "cell_type": "markdown",
   "metadata": {},
   "source": [
    "# Step-1 Loading data into dataframes"
   ]
  },
  {
   "cell_type": "code",
   "execution_count": 2,
   "metadata": {},
   "outputs": [
    {
     "data": {
      "text/html": [
       "<div>\n",
       "<style scoped>\n",
       "    .dataframe tbody tr th:only-of-type {\n",
       "        vertical-align: middle;\n",
       "    }\n",
       "\n",
       "    .dataframe tbody tr th {\n",
       "        vertical-align: top;\n",
       "    }\n",
       "\n",
       "    .dataframe thead th {\n",
       "        text-align: right;\n",
       "    }\n",
       "</style>\n",
       "<table border=\"1\" class=\"dataframe\">\n",
       "  <thead>\n",
       "    <tr style=\"text-align: right;\">\n",
       "      <th></th>\n",
       "      <th>Script</th>\n",
       "    </tr>\n",
       "  </thead>\n",
       "  <tbody>\n",
       "    <tr>\n",
       "      <th>0</th>\n",
       "      <td>ACT I</td>\n",
       "    </tr>\n",
       "    <tr>\n",
       "      <th>1</th>\n",
       "      <td>SCENE I. London. The palace.</td>\n",
       "    </tr>\n",
       "    <tr>\n",
       "      <th>2</th>\n",
       "      <td>Enter KING HENRY, LORD JOHN OF LANCASTER, the ...</td>\n",
       "    </tr>\n",
       "    <tr>\n",
       "      <th>3</th>\n",
       "      <td>So shaken as we are, so wan with care,</td>\n",
       "    </tr>\n",
       "    <tr>\n",
       "      <th>4</th>\n",
       "      <td>Find we a time for frighted peace to pant,</td>\n",
       "    </tr>\n",
       "    <tr>\n",
       "      <th>...</th>\n",
       "      <td>...</td>\n",
       "    </tr>\n",
       "    <tr>\n",
       "      <th>95</th>\n",
       "      <td>Which he in this adventure hath surprised,</td>\n",
       "    </tr>\n",
       "    <tr>\n",
       "      <th>96</th>\n",
       "      <td>To his own use he keeps, and sends me word,</td>\n",
       "    </tr>\n",
       "    <tr>\n",
       "      <th>97</th>\n",
       "      <td>I shall have none but Mordake Earl of Fife.</td>\n",
       "    </tr>\n",
       "    <tr>\n",
       "      <th>98</th>\n",
       "      <td>This is his uncle's teaching, this is Worcester,</td>\n",
       "    </tr>\n",
       "    <tr>\n",
       "      <th>99</th>\n",
       "      <td>Malevolent to you in all aspects,</td>\n",
       "    </tr>\n",
       "  </tbody>\n",
       "</table>\n",
       "<p>100 rows × 1 columns</p>\n",
       "</div>"
      ],
      "text/plain": [
       "                                               Script\n",
       "0                                               ACT I\n",
       "1                        SCENE I. London. The palace.\n",
       "2   Enter KING HENRY, LORD JOHN OF LANCASTER, the ...\n",
       "3              So shaken as we are, so wan with care,\n",
       "4          Find we a time for frighted peace to pant,\n",
       "..                                                ...\n",
       "95         Which he in this adventure hath surprised,\n",
       "96        To his own use he keeps, and sends me word,\n",
       "97        I shall have none but Mordake Earl of Fife.\n",
       "98   This is his uncle's teaching, this is Worcester,\n",
       "99                  Malevolent to you in all aspects,\n",
       "\n",
       "[100 rows x 1 columns]"
      ]
     },
     "execution_count": 2,
     "metadata": {},
     "output_type": "execute_result"
    }
   ],
   "source": [
    "## Load the engineered files into dataframes.\n",
    "script = pd.read_csv(\"/Users/sdamaraju/PycharmProjects/738-ML/GuessNextText/data/alllines_trimmed.txt\")\n",
    "script.head(100)"
   ]
  },
  {
   "cell_type": "markdown",
   "metadata": {},
   "source": [
    "# Step-2 Engineering the text data\n",
    "\n",
    "\n",
    "### 1.  Stemming and Lemmatization\n",
    "\n",
    "#### PorterStemmer algorithm for performing Stemming and Lemmatization process on the words.\n",
    "#### Stemming and Lemmatization evaluates relevant words and categorizes and converts them into a base word.\n",
    "#### Example : student, student's, students $\\Rightarrow$ student\n",
    "#### What is Stemming and Lemmatization ? \n",
    "\n",
    "Ref: https://nlp.stanford.edu/IR-book/html/htmledition/stemming-and-lemmatization-1.html\n",
    "\n",
    "### Note that I tried using Stemming to make sure I avoid similar words, but I was also losing some correct content, like, \"palace\" was returning as \"palac\" after the stemming process, hence, I'm not stemming the given text.\n",
    "\n",
    "### 2. Remove and Replace Special Characters\n",
    "\n",
    "#### Replace all special characters with empty string.\n",
    "\n",
    "### 3. Change to Lower Case.\n",
    "\n",
    "#### Convert all words to lower case, irrespective of what the original case is.\n",
    "\n",
    "### 4. Remove unnecessary words\n",
    "\n",
    "#### Using Stop Words library we filter and remove unnecessary general words/terms like, he, she, but, if etc."
   ]
  },
  {
   "cell_type": "code",
   "execution_count": 3,
   "metadata": {},
   "outputs": [],
   "source": [
    "vocabulary = []\n",
    "processedVocab = []\n",
    "ps = PorterStemmer()\n",
    "for i in range(0, len(script)):\n",
    "    processedData = re.sub('[^a-zA-Z]', ' ', script['Script'][i])\n",
    "    processedData = processedData.lower()\n",
    "    processedData = processedData.split()\n",
    "    processedData = [word for word in processedData if not word in stopwords.words('english')]\n",
    "    processedVocab.append(processedData)\n",
    "    for i in range(len(processedData)):\n",
    "        word = processedData[i]\n",
    "        if word not in vocabulary:\n",
    "            vocabulary.append(word)"
   ]
  },
  {
   "cell_type": "code",
   "execution_count": 4,
   "metadata": {},
   "outputs": [
    {
     "name": "stdout",
     "output_type": "stream",
     "text": [
      "22417\n",
      "['enter', 'king', 'henry', 'lord', 'john', 'lancaster', 'earl', 'westmoreland', 'sir', 'walter', 'blunt', 'others']\n"
     ]
    }
   ],
   "source": [
    "# All the vocabulary and processed vocabulary identified.\n",
    "print(len(vocabulary))\n",
    "print(processedVocab[2])"
   ]
  },
  {
   "cell_type": "markdown",
   "metadata": {},
   "source": [
    "# Step-3 : Algorithm for frequency of pair of consecutive words.\n",
    "\n",
    "### Evaluate the frequency of every word and next word.\n",
    "#### Example : We calculate the frequency for [enter,king] occurance and [king,henry] occurance and so on."
   ]
  },
  {
   "cell_type": "code",
   "execution_count": 5,
   "metadata": {},
   "outputs": [],
   "source": [
    "frequencyOfPairOfWords = {} # count how many times a word and its successor appear in the text.\n",
    "for i in range(0, len(processedVocab)):\n",
    "    wordsInLine = processedVocab[i]\n",
    "    wordCount = len(wordsInLine);\n",
    "    for j in range(wordCount):\n",
    "        if j != wordCount - 1: # will not consider the last words in the line.\n",
    "            word = wordsInLine[j]\n",
    "            successor = wordsInLine[j+1]\n",
    "            if word not in frequencyOfPairOfWords:\n",
    "                frequencyOfPairOfWords[word]={successor : 1}\n",
    "            else:\n",
    "                if successor not in frequencyOfPairOfWords[word]:\n",
    "                    frequencyOfPairOfWords[word][successor] = 1\n",
    "                else: frequencyOfPairOfWords[word][successor] = frequencyOfPairOfWords[word][successor] + 1   "
   ]
  },
  {
   "cell_type": "code",
   "execution_count": 6,
   "metadata": {},
   "outputs": [
    {
     "name": "stdout",
     "output_type": "stream",
     "text": [
      "109\n",
      "105\n"
     ]
    }
   ],
   "source": [
    "print(frequencyOfPairOfWords['enter']['king'])\n",
    "print(frequencyOfPairOfWords['king']['henry'])"
   ]
  },
  {
   "cell_type": "markdown",
   "metadata": {},
   "source": [
    "# Step-4 : Algorithm for frequency of pair of alternate words.\n",
    "\n",
    "### Evaluate the frequency of every word and next-next word. \n",
    "#### Example : We calculate the frequency for [enter, henry] occurance and [king, lord] occurance and so on."
   ]
  },
  {
   "cell_type": "code",
   "execution_count": 7,
   "metadata": {},
   "outputs": [],
   "source": [
    "frequencyOfFirstAndThirdWord = {} # count how many times a word and its 2 successors appear in the text.\n",
    "for i in range(0, len(processedVocab)):\n",
    "    wordsInLine = processedVocab[i]\n",
    "    wordCount = len(wordsInLine);\n",
    "    for j in range(wordCount):\n",
    "        if j < wordCount - 2: # will not consider the last 2 words in the line because they don't form the word and second successor.\n",
    "            word = wordsInLine[j]\n",
    "            successor2 = wordsInLine[j+2]\n",
    "            if word not in frequencyOfFirstAndThirdWord:\n",
    "                frequencyOfFirstAndThirdWord[word] = {successor2: 1}\n",
    "            else:\n",
    "                if successor2 not in frequencyOfFirstAndThirdWord[word]:\n",
    "                    frequencyOfFirstAndThirdWord[word][successor2] = 1\n",
    "                else:\n",
    "                    frequencyOfFirstAndThirdWord[word][successor2] = frequencyOfFirstAndThirdWord[word][successor2] + 1"
   ]
  },
  {
   "cell_type": "code",
   "execution_count": 8,
   "metadata": {},
   "outputs": [
    {
     "name": "stdout",
     "output_type": "stream",
     "text": [
      "49\n",
      "3\n"
     ]
    }
   ],
   "source": [
    "print(frequencyOfFirstAndThirdWord['enter']['henry'])\n",
    "print(frequencyOfFirstAndThirdWord['king']['lord'])"
   ]
  },
  {
   "cell_type": "markdown",
   "metadata": {},
   "source": [
    "# Step-5 : Identify the probabilities for conscutive words and alternative words occurances and assign them to respective combinations."
   ]
  },
  {
   "cell_type": "code",
   "execution_count": 9,
   "metadata": {},
   "outputs": [],
   "source": [
    "sumOfAllFrequencies = 0\n",
    "for word in frequencyOfPairOfWords:\n",
    "    for successor in frequencyOfPairOfWords[word]:\n",
    "        sumOfAllFrequencies = sumOfAllFrequencies + frequencyOfPairOfWords[word][successor]\n",
    "    for successor in frequencyOfPairOfWords[word]:\n",
    "        frequencyOfPairOfWords[word][successor] = frequencyOfPairOfWords[word][successor] / sumOfAllFrequencies\n",
    "sumOfAllFrequencies = 0\n",
    "for word in frequencyOfFirstAndThirdWord:\n",
    "    for successor2 in frequencyOfFirstAndThirdWord[word]:\n",
    "        sumOfAllFrequencies = sumOfAllFrequencies + frequencyOfFirstAndThirdWord[word][successor2]\n",
    "    for successor2 in frequencyOfFirstAndThirdWord[word]:\n",
    "        frequencyOfFirstAndThirdWord[word][successor2] = frequencyOfFirstAndThirdWord[word][successor2] / sumOfAllFrequencies"
   ]
  },
  {
   "cell_type": "code",
   "execution_count": 10,
   "metadata": {},
   "outputs": [
    {
     "name": "stdout",
     "output_type": "stream",
     "text": [
      "Sample probabilites of words occuring in pairs\n",
      "0.03461416322642109\n",
      "0.024401580292818963\n",
      "0.021425448185395716\n",
      "0.0009606147934678194\n"
     ]
    }
   ],
   "source": [
    "print(\"Sample probabilites of words occuring in pairs\")\n",
    "print(frequencyOfPairOfWords['enter']['king'])\n",
    "print(frequencyOfPairOfWords['king']['henry'])\n",
    "print(frequencyOfFirstAndThirdWord['enter']['henry'])\n",
    "print(frequencyOfFirstAndThirdWord['king']['lord'])"
   ]
  },
  {
   "cell_type": "markdown",
   "metadata": {},
   "source": [
    "# Step-6: Algorithm for next text predictor.\n",
    "\n",
    "#### For first given word, evaluate the third possible combination    \n",
    "#### For second given word, evaluate the immediate possible combination\n",
    "#### Logic to identify a common word for both words as possibilities and calculate the probability together.\n",
    "#### Its an \"and\" probability condition, hence both probabilities need to be multiplied.\n",
    "#### Run through all the probabilites and return the word that has the maximum probability\n",
    "    "
   ]
  },
  {
   "cell_type": "code",
   "execution_count": 11,
   "metadata": {},
   "outputs": [],
   "source": [
    "def nextTextPredictor(line):\n",
    "    predictScores = {}\n",
    "    givenWords = line.lower().split()\n",
    "        \n",
    "    if (givenWords[0] not in vocabulary or givenWords[1] not in vocabulary): return \"Error, words not found in vocabulary\"   \n",
    "    #For first given word, evaluate the third possible combination    \n",
    "    firstGivenWordProbables = frequencyOfFirstAndThirdWord[givenWords[0]]\n",
    "    #For second given word, evaluate the immediate possible combination\n",
    "    secondGivenWordProbables = frequencyOfPairOfWords[givenWords[1]]\n",
    "    \n",
    "    #Logic below is to identify a common word for both possibilities and calculate the probability together.\n",
    "    # Its an \"and\" probability condition, hence both probabilities need to be multiplied.\n",
    "    if(len(firstGivenWordProbables)==0 or len(secondGivenWordProbables)==0): return \"\"\n",
    "    for eachCombination in firstGivenWordProbables:\n",
    "            if eachCombination not in secondGivenWordProbables:\n",
    "                continue\n",
    "            else: predictScores[eachCombination]=firstGivenWordProbables[eachCombination] * secondGivenWordProbables[eachCombination]\n",
    "    \n",
    "    if(len(predictScores)==0): return random.choices(vocabulary)[0]\n",
    "    #print(\"Possible texts with their probabilites are \\n\",predictScores)\n",
    "    minScore = -1;\n",
    "    predictedText = \"\"\n",
    "    # Run through all probabilities and get the text with maximum probability.\n",
    "    for eachResult in predictScores:\n",
    "        if (Decimal(predictScores[eachResult]) > minScore):\n",
    "            minScore = Decimal(predictScores[eachResult]);\n",
    "            predictedText = eachResult\n",
    "    return predictedText;"
   ]
  },
  {
   "cell_type": "code",
   "execution_count": 12,
   "metadata": {},
   "outputs": [
    {
     "name": "stdout",
     "output_type": "stream",
     "text": [
      "The predicted text is : hast\n"
     ]
    }
   ],
   "source": [
    "predictedText = nextTextPredictor(\"quarrelling thou\")\n",
    "print(\"The predicted text is :\", predictedText)"
   ]
  },
  {
   "cell_type": "code",
   "execution_count": 13,
   "metadata": {},
   "outputs": [
    {
     "name": "stdout",
     "output_type": "stream",
     "text": [
      "The predicted text is : go\n"
     ]
    }
   ],
   "source": [
    "predictedText = nextTextPredictor(\"othello leave\")\n",
    "print(\"The predicted text is :\", predictedText)"
   ]
  },
  {
   "cell_type": "markdown",
   "metadata": {},
   "source": [
    "# Step-7: Algorithm for text generator\n",
    "\n",
    "#### Generate the first word in random. \n",
    "#### For second given word, evaluate all probable words for the first word, then pick any word random randomly from probables.\n",
    "#### For all other words use the nextTextPredictor for every two consecutive words."
   ]
  },
  {
   "cell_type": "code",
   "execution_count": 14,
   "metadata": {},
   "outputs": [],
   "source": [
    "def generateNewRandomText(numberOfWords):\n",
    "    #First step is to pick up any word randomly from the vocabulary and use it as our first word.\n",
    "    newRandomText = \"\"\n",
    "    iterate = True\n",
    "    firstWordInSequence = random.choices(vocabulary)[0]\n",
    "    while iterate:\n",
    "        if (firstWordInSequence not in frequencyOfPairOfWords):\n",
    "            firstWordInSequence = random.choices(vocabulary)[0]\n",
    "        else:\n",
    "            iterate = False\n",
    "    #Now, iterate over the second word possibilities for the first word and randomly select the second word.\n",
    "    secondWordInSequence = random.choices(list(frequencyOfPairOfWords[firstWordInSequence]))[0]\n",
    "    newRandomText = firstWordInSequence\n",
    "    newRandomText = newRandomText + \" \" + secondWordInSequence\n",
    "    #Now call the nextTextPredictor in a loop for every 2 consecutive pairs to get the next words in the random sequence. \n",
    "    for i in range(numberOfWords-2):\n",
    "        nextWordInSequence = nextTextPredictor(firstWordInSequence + \" \" + secondWordInSequence)\n",
    "        newRandomText = newRandomText + \" \" + (nextWordInSequence)\n",
    "        firstWordInSequence = secondWordInSequence\n",
    "        secondWordInSequence = nextWordInSequence\n",
    "    return (newRandomText)    "
   ]
  },
  {
   "cell_type": "code",
   "execution_count": 15,
   "metadata": {},
   "outputs": [
    {
     "name": "stdout",
     "output_type": "stream",
     "text": [
      "Generated random text :  chambers sick competency banquets smit\n"
     ]
    }
   ],
   "source": [
    "print(\"Generated random text : \",generateNewRandomText(5))"
   ]
  },
  {
   "cell_type": "code",
   "execution_count": 16,
   "metadata": {},
   "outputs": [
    {
     "name": "stdout",
     "output_type": "stream",
     "text": [
      "Generated random text :  vineyard none tend man two\n"
     ]
    }
   ],
   "source": [
    "print(\"Generated random text : \",generateNewRandomText(5))"
   ]
  },
  {
   "cell_type": "code",
   "execution_count": 17,
   "metadata": {},
   "outputs": [
    {
     "name": "stdout",
     "output_type": "stream",
     "text": [
      "Generated random text :  ravenous tiger accursed devil make thee thy father\n"
     ]
    }
   ],
   "source": [
    "print(\"Generated random text : \",generateNewRandomText(8))"
   ]
  }
 ],
 "metadata": {
  "kernelspec": {
   "display_name": "Python 3",
   "language": "python",
   "name": "python3"
  },
  "language_info": {
   "codemirror_mode": {
    "name": "ipython",
    "version": 3
   },
   "file_extension": ".py",
   "mimetype": "text/x-python",
   "name": "python",
   "nbconvert_exporter": "python",
   "pygments_lexer": "ipython3",
   "version": "3.8.3"
  }
 },
 "nbformat": 4,
 "nbformat_minor": 4
}
