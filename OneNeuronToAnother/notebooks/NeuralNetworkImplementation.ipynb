{
 "cells": [
  {
   "cell_type": "markdown",
   "metadata": {},
   "source": [
    "## Project-3 : Says One neuron to another\n",
    "### Goal of the project : Implement a neural network model from the scratch.\n",
    "\n",
    "This notebook consists a naive neural network implementation that uses the following references for its implementation.\n",
    "https://medium.com/fintechexplained/neural-networks-bias-and-weights-10b53e6285da\n",
    "https://towardsdatascience.com/how-to-build-your-own-neural-network-from-scratch-in-python-68998a08e4f6"
   ]
  },
  {
   "cell_type": "markdown",
   "metadata": {},
   "source": [
    "### Logical implementation details\n",
    "Steps in the implementation:\n",
    "    Note that all the explanations are provided inline with the implementation.\n",
    "    \n",
    "    1. Define all the relevant and required neural network implementations.\n",
    "    2. Define all the required prediction realted functions.    \n",
    "    3. Apply the implemented neural networks into two datasets taken.\n",
    "\n",
    "Datasets taken : \n",
    "1. Stars.csv : Has features like spectral class, color and A_M to determine the type of start it is.\n",
    "2. Iris.csv : has petal and sepal - width and length, and helps determine the speicies."
   ]
  },
  {
   "cell_type": "markdown",
   "metadata": {},
   "source": [
    "### Required Library imports"
   ]
  },
  {
   "cell_type": "code",
   "execution_count": 1,
   "metadata": {},
   "outputs": [],
   "source": [
    "import pandas as pd\n",
    "import numpy as np\n",
    "import matplotlib.pyplot as plt \n",
    "from sklearn.model_selection import train_test_split\n",
    "from sklearn.preprocessing import OneHotEncoder"
   ]
  },
  {
   "cell_type": "markdown",
   "metadata": {},
   "source": [
    "## Define all Neural Network related functions"
   ]
  },
  {
   "cell_type": "code",
   "execution_count": 2,
   "metadata": {},
   "outputs": [],
   "source": [
    "# 1. Identify and set initial random weights across all layers \n",
    "def setInitialWeights(layerDetails):\n",
    "    \n",
    "    # iterate over each hidden layer and generate random weights between -1 and 1 at each layer.\n",
    "    weights=[]\n",
    "    for i in range(1, len(layerDetails)):\n",
    "        layerLevelWeights = [[np.random.uniform(-1, 1) for k in range(layerDetails[i-1] + 1)] for j in range(layerDetails[i])]\n",
    "        weights.append(np.matrix(layerLevelWeights))\n",
    "    return weights\n",
    "        \n",
    "        \n",
    "#2. Define the activation functions, sigmoid during feedForward and sigmoidDerivative during backpropagation, our case.        \n",
    "def sigmoid(value):\n",
    "    return 1 / (1 + np.exp(-value))\n",
    "\n",
    "def sigmoidDerivative(value):\n",
    "    return np.multiply(value, 1-value)   \n",
    "\n",
    "\n",
    "## The right values for the weights and biases determines the strength of the predictions. \n",
    "## The process of fine-tuning the weights and biases from the input data is known as training the Neural Network.\n",
    "## Each iteration of the training process consists of the following steps:\n",
    "## Calculating the predicted output ŷ, known as feedforward\n",
    "## Updating the weights and biases, known as backpropagation\n",
    "\n",
    "\n",
    "\n",
    "#3. Define the feedForward logic.\n",
    "# Apply sigmaoid (activation function) on the weights of the hidden layer multiplied by the input data and add bias for input (1). \n",
    "# Run this in loop of layers to apply the sigmoid in a loop.\n",
    "# As explained above, feedForward, uses weights and generates outputs.\n",
    "\n",
    "def feedForward(x, weights, layers):\n",
    "    output, eachInput = [x], x\n",
    "    for eachLayer in range(layers):\n",
    "        eachInput = eachInput.astype(float) \n",
    "        tempOP = sigmoid(np.dot(eachInput, weights[eachLayer].T))\n",
    "        output.append(tempOP)\n",
    "        # next add the bias which in our case is assumed to be 1.\n",
    "        eachInput = np.append(1, tempOP) \n",
    "    return output\n",
    "\n",
    "# 4. propagateBackward\n",
    "## After the feedForward step, we need to update the weights and manipulate the biases \n",
    "## by comparing with Y_train (actual outputs of train data and outputs we generated with random weights)\n",
    "## and then identify the gradient loss\n",
    "\n",
    "def propagateBackward(y, output, weights, layers, learningRate):\n",
    "    outputFinal = output[-1]\n",
    "    difference = np.matrix(y - outputFinal)\n",
    "    \n",
    "    #Back propagate the difference at eachLayer\n",
    "    # go back from top layer to 0.\n",
    "    for eachLayer in range(layers, 0, -1):\n",
    "        currOutput = output[eachLayer]\n",
    "        \n",
    "        if(eachLayer > 1):\n",
    "            # Add previous output\n",
    "            prevOutput = np.append(1, output[eachLayer-1])\n",
    "        else:\n",
    "            prevOutput = output[0]\n",
    "        \n",
    "        gradient = np.multiply(difference, sigmoidDerivative(currOutput))\n",
    "        # next step weights are updated.\n",
    "        temp = np.multiply(gradient.T, prevOutput)\n",
    "        temp.astype(float)\n",
    "        weights[eachLayer-1] += learningRate * temp\n",
    "        wt = np.delete(weights[eachLayer-1], [0], axis=1) # Remove bias from weights\n",
    "        difference = np.dot(gradient, wt) # Calculate error for current layer\n",
    "    return weights\n",
    "        \n",
    "#5. The actual Neural network model to identify perfect weights for our implementation using the above defined methods.\n",
    "\n",
    "def model(X_train, Y_train, learningRate, layerDetails, runs):\n",
    "\n",
    "    # Random values are to be set to the weights for the first time at all layers.\n",
    "\n",
    "    weights = setInitialWeights(layerDetails)\n",
    "\n",
    "    for eachRun in range(1, runs+1):\n",
    "        layers = len(weights)\n",
    "        for i in range(len(X_train)):\n",
    "            x, y = X_train[i], Y_train[i]\n",
    "            x = np.matrix(np.append(1, x))         \n",
    "            output = feedForward(x, weights, layers)\n",
    "            weights = propagateBackward(y, output, weights, layers, learningRate)\n",
    "            \n",
    "        if(eachRun % 50 == 0):\n",
    "            print(\"Training Accuracy :{}\".format(accuracy(X_train, Y_train, weights)))\n",
    "    return weights;        "
   ]
  },
  {
   "cell_type": "markdown",
   "metadata": {},
   "source": [
    "## Define prediction and accuracy related functions"
   ]
  },
  {
   "cell_type": "code",
   "execution_count": 3,
   "metadata": {},
   "outputs": [],
   "source": [
    "# Plain accuracy function that takes the test content and the identified weights, to predict the possible value\n",
    "# and then compare with actual result and calculate the accuracy score based on that.\n",
    "def accuracy(X, Y, idealWeights):\n",
    "    totalMatched = 0\n",
    "\n",
    "    for i in range(len(X)):\n",
    "        x = X[i]\n",
    "        y = list(Y[i])\n",
    "        prediction = predict(x, idealWeights)\n",
    "        if(y == prediction):\n",
    "            totalMatched = totalMatched + 1\n",
    "\n",
    "    return totalMatched / len(X)\n",
    "\n",
    "# the predict function simply calls the feedForward algorithm, this time with the weights that are calculated from the model and \n",
    "# the output we get will have a value for each possible class of the given input.\n",
    "# the higher the value, more probable class it is.\n",
    "# we initialize all values to 0 in the return list but the index with maxValue and set that to 1.\n",
    "def predict(content, weights):\n",
    "    layersCount = len(weights)\n",
    "    content = np.append(1, content)\n",
    "    # Call feedForward\n",
    "    output = feedForward(content, weights, layersCount)\n",
    "    outputFinal = output[-1].A1\n",
    "    index = identifyIndexWithMaxValue(outputFinal)\n",
    "    y = [0 for i in range(len(outputFinal))]\n",
    "    y[index] = 1\n",
    "    return y\n",
    "\n",
    "# as explained above, identifyIndexWithMaxValue returns the index with max value.\n",
    "def identifyIndexWithMaxValue(output):\n",
    "    maxValue = output[0] #set to first value of output\n",
    "    index = 0 # set to first index\n",
    "    index = np.argmax(output)\n",
    "    return index"
   ]
  },
  {
   "cell_type": "markdown",
   "metadata": {},
   "source": [
    "### Apply neural networks to Dataset - 1 - Stars.csv\n",
    "\n"
   ]
  },
  {
   "cell_type": "code",
   "execution_count": 4,
   "metadata": {},
   "outputs": [],
   "source": [
    "from sklearn.preprocessing import LabelEncoder, OneHotEncoder\n",
    "one_hot_encoder = OneHotEncoder(sparse=False)\n",
    "\n",
    "dataset = pd.read_csv(\"/Users/sdamaraju/PycharmProjects/738-ML/OneNeuronToAnother/data/Stars.csv\")\n",
    "dataset = dataset.drop(columns=['L', 'R','Temperature'])\n",
    "\n",
    "X = dataset[['A_M','Spectral_Class','Color']]\n",
    "X = np.array(X)\n",
    "\n",
    "Y = dataset.Type\n",
    "Y = one_hot_encoder.fit_transform(np.array(Y).reshape(-1, 1))\n",
    "\n",
    "X_train, X_test, Y_train, Y_test = train_test_split(X, Y, test_size=0.20, random_state=1)"
   ]
  },
  {
   "cell_type": "code",
   "execution_count": 5,
   "metadata": {
    "scrolled": false
   },
   "outputs": [
    {
     "name": "stdout",
     "output_type": "stream",
     "text": [
      "Training Accuracy :0.765625\n",
      "Training Accuracy :0.7916666666666666\n",
      "Training Accuracy :0.8020833333333334\n",
      "Training Accuracy :0.8020833333333334\n",
      "Iterations : 200\n",
      "\n",
      " Finally Testing Accuracy on Validation Content of Stars Dataset with iterations 200: 0.8541666666666666\n",
      "\n",
      "Iterations : 500\n",
      "Training Accuracy :0.78125\n",
      "Training Accuracy :0.9635416666666666\n",
      "Training Accuracy :0.8020833333333334\n",
      "Training Accuracy :0.7552083333333334\n",
      "Training Accuracy :0.8020833333333334\n",
      "Training Accuracy :0.7916666666666666\n",
      "Training Accuracy :0.8125\n",
      "Training Accuracy :0.8125\n",
      "Training Accuracy :0.8125\n",
      "Training Accuracy :0.8072916666666666\n",
      "\n",
      " Finally Testing Accuracy on Validation Content of Stars Dataset with iterations 500: 0.8541666666666666\n"
     ]
    }
   ],
   "source": [
    "# Number of features - using A_M, Spectral_Class and Color features of Stars dataset.\n",
    "features = len(X[0])\n",
    "# Number of classes - 6\n",
    "# Types 0-5\n",
    "classes = 6\n",
    "layers = [features, 5, 10, classes]\n",
    "idealWeights=[]\n",
    "\n",
    "idealWeights = model(X_train, Y_train, learningRate=0.15, layerDetails=layers, runs=200)\n",
    "print(\"Iterations : 200\")\n",
    "print(\"\\n Finally Testing Accuracy on Validation Content of Stars Dataset with iterations 200: {}\".format(accuracy(X_test, Y_test, idealWeights)))\n",
    "\n",
    "print(\"\\nIterations : 500\")\n",
    "idealWeights = model(X_train, Y_train, learningRate=0.15, layerDetails=layers, runs=500)\n",
    "print(\"\\n Finally Testing Accuracy on Validation Content of Stars Dataset with iterations 500: {}\".format(accuracy(X_test, Y_test, idealWeights)))"
   ]
  },
  {
   "cell_type": "markdown",
   "metadata": {},
   "source": [
    "### Apply neural networks to Dataset - 2 - IRIS_Dataset.csv"
   ]
  },
  {
   "cell_type": "code",
   "execution_count": 6,
   "metadata": {},
   "outputs": [],
   "source": [
    "from sklearn.preprocessing import LabelEncoder, OneHotEncoder\n",
    "one_hot_encoder = OneHotEncoder(sparse=False)\n",
    "\n",
    "dataset = pd.read_csv(\"/Users/sdamaraju/PycharmProjects/738-ML/OneNeuronToAnother/data/Iris.csv\")\n",
    "dataset = dataset.drop(columns=['Id'])\n",
    "\n",
    "X = dataset[['SepalLengthCm', 'SepalWidthCm', 'PetalLengthCm', 'PetalWidthCm']]\n",
    "X = np.array(X)\n",
    "\n",
    "Y = dataset.Species\n",
    "Y = one_hot_encoder.fit_transform(np.array(Y).reshape(-1, 1))\n",
    "\n",
    "X_train, X_test, Y_train, Y_test = train_test_split(X, Y, test_size=0.20, random_state=1)"
   ]
  },
  {
   "cell_type": "code",
   "execution_count": 7,
   "metadata": {},
   "outputs": [
    {
     "name": "stdout",
     "output_type": "stream",
     "text": [
      "Iterations : 200\n",
      "Training Accuracy :0.8916666666666667\n",
      "Training Accuracy :0.9666666666666667\n",
      "Training Accuracy :0.9666666666666667\n",
      "Training Accuracy :0.9166666666666666\n",
      "\n",
      " Finally Testing Accuracy on Validation Content of IRIS dataset with iterations 200: 0.9333333333333333\n",
      "\n",
      "Iterations : 500\n",
      "Training Accuracy :0.9\n",
      "Training Accuracy :0.975\n",
      "Training Accuracy :0.9416666666666667\n",
      "Training Accuracy :0.975\n",
      "Training Accuracy :0.9833333333333333\n",
      "Training Accuracy :0.975\n",
      "Training Accuracy :0.9916666666666667\n",
      "Training Accuracy :0.975\n",
      "Training Accuracy :0.9833333333333333\n",
      "Training Accuracy :0.975\n",
      "\n",
      " Finally Testing Accuracy on Validation Content of IRIS dataset with iterations 500: 1.0\n"
     ]
    }
   ],
   "source": [
    "# Number of features - using all of them in the iris dataset.\n",
    "features = len(X[0])\n",
    "# Number of classes - 3\n",
    "# iris-setosa, iris-versicolor, iris-virginica\n",
    "classes = 3\n",
    "layers = [features, 5, 10, classes]\n",
    "idealWeights=[]\n",
    "\n",
    "print(\"Iterations : 200\")\n",
    "idealWeights = model(X_train, Y_train, learningRate=0.15, layerDetails=layers, runs=200)\n",
    "print(\"\\n Finally Testing Accuracy on Validation Content of IRIS dataset with iterations 200: {}\".format(accuracy(X_test, Y_test, idealWeights)))\n",
    "\n",
    "print(\"\\nIterations : 500\")\n",
    "idealWeights = model(X_train, Y_train, learningRate=0.15, layerDetails=layers, runs=500)\n",
    "print(\"\\n Finally Testing Accuracy on Validation Content of IRIS dataset with iterations 500: {}\".format(accuracy(X_test, Y_test, idealWeights)))"
   ]
  },
  {
   "cell_type": "markdown",
   "metadata": {},
   "source": [
    "## Observations:\n",
    "\n",
    "On applying the implemented neural network algorithm 2 datasets here are some observations : \n",
    "1. We can see a gradual improvement in the training accuracy on both data sets.\n",
    "2. On intentional run of both the datasets for 200 iterations and 500 iterations, we can see that the training accuracy keeps improving as the iterations are increased and also the final validation accuracy seems to be better when there are more number of iterations.\n",
    "3. I observed that sigmoid function doesn't run efficiently when the values in the given input are either too high or too low, and my accuracy was too low in that case, hence I had to drop few columns in the Stars dataset like, 'Temperature', 'L' and 'R' and use the other columns to achive the accuracy.\n",
    "\n",
    "\n"
   ]
  },
  {
   "cell_type": "code",
   "execution_count": null,
   "metadata": {},
   "outputs": [],
   "source": []
  }
 ],
 "metadata": {
  "kernelspec": {
   "display_name": "Python 3",
   "language": "python",
   "name": "python3"
  },
  "language_info": {
   "codemirror_mode": {
    "name": "ipython",
    "version": 3
   },
   "file_extension": ".py",
   "mimetype": "text/x-python",
   "name": "python",
   "nbconvert_exporter": "python",
   "pygments_lexer": "ipython3",
   "version": "3.8.3"
  }
 },
 "nbformat": 4,
 "nbformat_minor": 4
}
