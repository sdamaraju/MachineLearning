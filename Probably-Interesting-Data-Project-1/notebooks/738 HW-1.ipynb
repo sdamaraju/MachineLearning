{
 "cells": [
  {
   "cell_type": "markdown",
   "metadata": {},
   "source": [
    "# Project - 1 Goal : Mixture Models Distributions"
   ]
  },
  {
   "cell_type": "markdown",
   "metadata": {},
   "source": [
    "## Steps in Project\n",
    "\n",
    "### a. Identify and understand the datasets.\n",
    "### b. Load the datasets in to dataframes.\n",
    "### c. Plot the distributions prior to applying our algorithm, visualize the plots to understand what can be our possible \"k\" values for the initial clusters count and also get approximate the mean and variance values.\n",
    "### d. Pass the attribute values, mean and variance to the algorithm and run the expectation-maximization algorithm that we tried to implement.\n",
    "### e. Replot the distributions to get a Gaussian distribution and share the observations.\n"
   ]
  },
  {
   "cell_type": "code",
   "execution_count": 1,
   "metadata": {},
   "outputs": [],
   "source": [
    "## Importing the required datasets.\n",
    "\n",
    "import pandas as pd\n",
    "import numpy as np\n",
    "import matplotlib.pyplot as plt\n",
    "import seaborn as sns\n",
    "from scipy.stats import norm\n",
    "from math import sqrt"
   ]
  },
  {
   "cell_type": "markdown",
   "metadata": {},
   "source": [
    "### The probability density below is defined in the “standardized” form. To shift and/or scale the distribution use the loc and scale parameters. Specifically, norm.pdf(x, loc, scale) is identically equivalent to norm.pdf(y) / scale with y = (x - loc) / scale\n",
    "\n",
    "Ref: https://docs.scipy.org/doc/scipy/reference/generated/scipy.stats.norm.html"
   ]
  },
  {
   "cell_type": "code",
   "execution_count": 2,
   "metadata": {},
   "outputs": [],
   "source": [
    "def probabilityDensityFunction(data, mean, sigma):\n",
    "    arrayfiedData = np.asarray(data)\n",
    "    output = norm.pdf(arrayfiedData, mean, sigma)\n",
    "    return output"
   ]
  },
  {
   "cell_type": "markdown",
   "metadata": {},
   "source": [
    "### Convergence test for EM, to evaluate when to stop the EM model of evaluation. \n",
    "### The logic here compares if the values of means have a difference less than convergenceThreshold to the values of previousMean.\n",
    "### If its less than convergenceThreshold then this method returns true, else false."
   ]
  },
  {
   "cell_type": "code",
   "execution_count": 3,
   "metadata": {},
   "outputs": [],
   "source": [
    "def isConverged(mean, prevMean, threshold):\n",
    "    k = len(mean)\n",
    "    meanDelta = []\n",
    "\n",
    "    for i in range(k):\n",
    "        meanDelta.append(abs(mean[i]-prevMean[i]))\n",
    "\n",
    "    count = 0\n",
    "    for i in range(k):\n",
    "        if(meanDelta[i] < threshold):\n",
    "            count = count + 1\n",
    "    # we need the delta of means for all the clusters to be less than 0.01\n",
    "    if(count == k):\n",
    "        return True\n",
    "    else:\n",
    "        return False"
   ]
  },
  {
   "cell_type": "markdown",
   "metadata": {},
   "source": [
    "### Expectation-Maximization Implementation \n",
    "#### Please see inline comments to go through the logic details.\n",
    "\n",
    "#### Ref : https://www.geeksforgeeks.org/gaussian-mixture-model/ "
   ]
  },
  {
   "cell_type": "code",
   "execution_count": 4,
   "metadata": {},
   "outputs": [],
   "source": [
    "def runEM(data, params, context, thresholdForConvergence):\n",
    "    # initialize values of means, variances, and mixture coefficients of gaussian models\n",
    "    k = params['gaussians']\n",
    "    mean = params['mean']\n",
    "    prevMean = []\n",
    "    sigma = params['sigma']\n",
    "    prevSigma = []\n",
    "    probK = []\n",
    "    prevProbK = []\n",
    "    latentValues = []\n",
    "    gaussians = []\n",
    "    \n",
    "    #intialize the initial previous values of mean and sigma to some randome number so that the first while condition \n",
    "    #for the convergence test doesn't fail\n",
    "    \n",
    "    ## also initalize the initial probobaility for each cluster which will be 1/(no. of clusters)\n",
    "    \n",
    "    ## suppose all the latent values to 0s.\n",
    "    \n",
    "    for i in range(k):\n",
    "        prevMean.append(-9999)\n",
    "        prevSigma.append(-9999)\n",
    "        probK.append(1/k) \n",
    "        latentValues.append([0] * len(data))\n",
    "     \n",
    "    # running the initial probability density function on the data with each cluster's mean \n",
    "    # and sigma that we initially approximated\n",
    "    for i in range(k):\n",
    "        gaussians.append(probabilityDensityFunction(data, mean[i], sigma[i]))\n",
    "   \n",
    "    iterations = 0\n",
    "    # here I'm evaluating to see if the convergence occurs within 25 iterations, \n",
    "    # if yes, then the loop breaks immediately, else it breaks after 25 iterations at maximum\n",
    "\n",
    "    while(not isConverged(mean, prevMean, thresholdForConvergence) and iterations < 25):\n",
    "        # Expectation :step where we identify the latent or hidden values\n",
    "        for i in range(k):\n",
    "            for j in range(len(data)):\n",
    "                sumLatentVars = 0\n",
    "                for l in range(k):\n",
    "                    sumLatentVars = sumLatentVars + probK[l]*gaussians[l][j]\n",
    "                latentValues[i][j] = probK[i]*gaussians[i][j]/sumLatentVars\n",
    "                \n",
    "        # Back up the mean, sigma and probability values so that we can use them for \n",
    "        prevMean = mean.copy()\n",
    "        prevSigma = sigma.copy()\n",
    "        prevProbK = probK.copy()\n",
    "        \n",
    "        # Maximization : step where we re-validate the mean, sigma and probability of the clusters using the latent variables.    \n",
    "        # update the values of the means, variances, and mixing cofficient\n",
    "        for i in range(k):\n",
    "            tempmean = 0\n",
    "            tempsigma = 0\n",
    "            tempprob = 0\n",
    "            for j in range(len(data)):\n",
    "                tempmean = tempmean + (data[j] * latentValues[i][j])/sum(latentValues[i])\n",
    "                tempsigma = tempsigma + ((data[j]-mean[i])**2 * latentValues[i][j])/sum(latentValues[i])\n",
    "                tempprob = tempprob + latentValues[i][j]/len(data)\n",
    "            mean[i] = tempmean\n",
    "            sigma[i] = sqrt(tempsigma)\n",
    "            probK[i] = tempprob\n",
    "        \n",
    "        # Update the gaussians here with the new mean and sigma identified from the Maximization step.\n",
    "        for i in range(k):\n",
    "            gaussians[i] = probabilityDensityFunction(data, mean[i] ,sigma[i])\n",
    "        \n",
    "        # increase iteration\n",
    "        iterations = iterations + 1\n",
    "    \n",
    "    # Note down the iterations it has taken.\n",
    "    print(\"Converged after\", iterations, \"iterations.\")\n",
    "    \n",
    "    ## plotting the gaussian distributions, post the convergence.\n",
    "    temp = []\n",
    "    \n",
    "    for i in range(len(data)):\n",
    "        tempprob = 0\n",
    "        for j in range(k):\n",
    "            tempprob = tempprob + probK[j]*gaussians[j][i]\n",
    "        temp.append(tempprob)\n",
    "    \n",
    "    output = list(zip(data,temp))\n",
    "    output.sort()\n",
    "    x2, y2 = zip(*output)\n",
    "    # plot subplots\n",
    "    f, (ax1, ax2) = plt.subplots(1, 2, figsize=(15,3))\n",
    "    sns.distplot(data, ax=ax1)\n",
    "    ax1.set_title(\" Probability Distribution\")\n",
    "    ax2.plot(x2,y2)\n",
    "    ax2.set_title(\" Gaussian mixture model with EM\")"
   ]
  },
  {
   "cell_type": "markdown",
   "metadata": {},
   "source": [
    "# Analysis on DataSet - 1 : Wine-Quality"
   ]
  },
  {
   "cell_type": "markdown",
   "metadata": {},
   "source": [
    "### Read the data from files to data frames."
   ]
  },
  {
   "cell_type": "code",
   "execution_count": 5,
   "metadata": {},
   "outputs": [
    {
     "data": {
      "text/html": [
       "<div>\n",
       "<style scoped>\n",
       "    .dataframe tbody tr th:only-of-type {\n",
       "        vertical-align: middle;\n",
       "    }\n",
       "\n",
       "    .dataframe tbody tr th {\n",
       "        vertical-align: top;\n",
       "    }\n",
       "\n",
       "    .dataframe thead th {\n",
       "        text-align: right;\n",
       "    }\n",
       "</style>\n",
       "<table border=\"1\" class=\"dataframe\">\n",
       "  <thead>\n",
       "    <tr style=\"text-align: right;\">\n",
       "      <th></th>\n",
       "      <th>fixed acidity</th>\n",
       "      <th>volatile acidity</th>\n",
       "      <th>citric acid</th>\n",
       "      <th>residual sugar</th>\n",
       "      <th>chlorides</th>\n",
       "      <th>free sulfur dioxide</th>\n",
       "      <th>total sulfur dioxide</th>\n",
       "      <th>density</th>\n",
       "      <th>pH</th>\n",
       "      <th>sulphates</th>\n",
       "      <th>alcohol</th>\n",
       "      <th>quality</th>\n",
       "    </tr>\n",
       "  </thead>\n",
       "  <tbody>\n",
       "    <tr>\n",
       "      <th>0</th>\n",
       "      <td>7.4</td>\n",
       "      <td>0.70</td>\n",
       "      <td>0.00</td>\n",
       "      <td>1.9</td>\n",
       "      <td>0.076</td>\n",
       "      <td>11.0</td>\n",
       "      <td>34.0</td>\n",
       "      <td>0.9978</td>\n",
       "      <td>3.51</td>\n",
       "      <td>0.56</td>\n",
       "      <td>9.4</td>\n",
       "      <td>5</td>\n",
       "    </tr>\n",
       "    <tr>\n",
       "      <th>1</th>\n",
       "      <td>7.8</td>\n",
       "      <td>0.88</td>\n",
       "      <td>0.00</td>\n",
       "      <td>2.6</td>\n",
       "      <td>0.098</td>\n",
       "      <td>25.0</td>\n",
       "      <td>67.0</td>\n",
       "      <td>0.9968</td>\n",
       "      <td>3.20</td>\n",
       "      <td>0.68</td>\n",
       "      <td>9.8</td>\n",
       "      <td>5</td>\n",
       "    </tr>\n",
       "    <tr>\n",
       "      <th>2</th>\n",
       "      <td>7.8</td>\n",
       "      <td>0.76</td>\n",
       "      <td>0.04</td>\n",
       "      <td>2.3</td>\n",
       "      <td>0.092</td>\n",
       "      <td>15.0</td>\n",
       "      <td>54.0</td>\n",
       "      <td>0.9970</td>\n",
       "      <td>3.26</td>\n",
       "      <td>0.65</td>\n",
       "      <td>9.8</td>\n",
       "      <td>5</td>\n",
       "    </tr>\n",
       "    <tr>\n",
       "      <th>3</th>\n",
       "      <td>11.2</td>\n",
       "      <td>0.28</td>\n",
       "      <td>0.56</td>\n",
       "      <td>1.9</td>\n",
       "      <td>0.075</td>\n",
       "      <td>17.0</td>\n",
       "      <td>60.0</td>\n",
       "      <td>0.9980</td>\n",
       "      <td>3.16</td>\n",
       "      <td>0.58</td>\n",
       "      <td>9.8</td>\n",
       "      <td>6</td>\n",
       "    </tr>\n",
       "    <tr>\n",
       "      <th>4</th>\n",
       "      <td>7.4</td>\n",
       "      <td>0.70</td>\n",
       "      <td>0.00</td>\n",
       "      <td>1.9</td>\n",
       "      <td>0.076</td>\n",
       "      <td>11.0</td>\n",
       "      <td>34.0</td>\n",
       "      <td>0.9978</td>\n",
       "      <td>3.51</td>\n",
       "      <td>0.56</td>\n",
       "      <td>9.4</td>\n",
       "      <td>5</td>\n",
       "    </tr>\n",
       "    <tr>\n",
       "      <th>5</th>\n",
       "      <td>7.4</td>\n",
       "      <td>0.66</td>\n",
       "      <td>0.00</td>\n",
       "      <td>1.8</td>\n",
       "      <td>0.075</td>\n",
       "      <td>13.0</td>\n",
       "      <td>40.0</td>\n",
       "      <td>0.9978</td>\n",
       "      <td>3.51</td>\n",
       "      <td>0.56</td>\n",
       "      <td>9.4</td>\n",
       "      <td>5</td>\n",
       "    </tr>\n",
       "    <tr>\n",
       "      <th>6</th>\n",
       "      <td>7.9</td>\n",
       "      <td>0.60</td>\n",
       "      <td>0.06</td>\n",
       "      <td>1.6</td>\n",
       "      <td>0.069</td>\n",
       "      <td>15.0</td>\n",
       "      <td>59.0</td>\n",
       "      <td>0.9964</td>\n",
       "      <td>3.30</td>\n",
       "      <td>0.46</td>\n",
       "      <td>9.4</td>\n",
       "      <td>5</td>\n",
       "    </tr>\n",
       "    <tr>\n",
       "      <th>7</th>\n",
       "      <td>7.3</td>\n",
       "      <td>0.65</td>\n",
       "      <td>0.00</td>\n",
       "      <td>1.2</td>\n",
       "      <td>0.065</td>\n",
       "      <td>15.0</td>\n",
       "      <td>21.0</td>\n",
       "      <td>0.9946</td>\n",
       "      <td>3.39</td>\n",
       "      <td>0.47</td>\n",
       "      <td>10.0</td>\n",
       "      <td>7</td>\n",
       "    </tr>\n",
       "    <tr>\n",
       "      <th>8</th>\n",
       "      <td>7.8</td>\n",
       "      <td>0.58</td>\n",
       "      <td>0.02</td>\n",
       "      <td>2.0</td>\n",
       "      <td>0.073</td>\n",
       "      <td>9.0</td>\n",
       "      <td>18.0</td>\n",
       "      <td>0.9968</td>\n",
       "      <td>3.36</td>\n",
       "      <td>0.57</td>\n",
       "      <td>9.5</td>\n",
       "      <td>7</td>\n",
       "    </tr>\n",
       "    <tr>\n",
       "      <th>9</th>\n",
       "      <td>7.5</td>\n",
       "      <td>0.50</td>\n",
       "      <td>0.36</td>\n",
       "      <td>6.1</td>\n",
       "      <td>0.071</td>\n",
       "      <td>17.0</td>\n",
       "      <td>102.0</td>\n",
       "      <td>0.9978</td>\n",
       "      <td>3.35</td>\n",
       "      <td>0.80</td>\n",
       "      <td>10.5</td>\n",
       "      <td>5</td>\n",
       "    </tr>\n",
       "  </tbody>\n",
       "</table>\n",
       "</div>"
      ],
      "text/plain": [
       "   fixed acidity  volatile acidity  citric acid  residual sugar  chlorides  \\\n",
       "0            7.4              0.70         0.00             1.9      0.076   \n",
       "1            7.8              0.88         0.00             2.6      0.098   \n",
       "2            7.8              0.76         0.04             2.3      0.092   \n",
       "3           11.2              0.28         0.56             1.9      0.075   \n",
       "4            7.4              0.70         0.00             1.9      0.076   \n",
       "5            7.4              0.66         0.00             1.8      0.075   \n",
       "6            7.9              0.60         0.06             1.6      0.069   \n",
       "7            7.3              0.65         0.00             1.2      0.065   \n",
       "8            7.8              0.58         0.02             2.0      0.073   \n",
       "9            7.5              0.50         0.36             6.1      0.071   \n",
       "\n",
       "   free sulfur dioxide  total sulfur dioxide  density    pH  sulphates  \\\n",
       "0                 11.0                  34.0   0.9978  3.51       0.56   \n",
       "1                 25.0                  67.0   0.9968  3.20       0.68   \n",
       "2                 15.0                  54.0   0.9970  3.26       0.65   \n",
       "3                 17.0                  60.0   0.9980  3.16       0.58   \n",
       "4                 11.0                  34.0   0.9978  3.51       0.56   \n",
       "5                 13.0                  40.0   0.9978  3.51       0.56   \n",
       "6                 15.0                  59.0   0.9964  3.30       0.46   \n",
       "7                 15.0                  21.0   0.9946  3.39       0.47   \n",
       "8                  9.0                  18.0   0.9968  3.36       0.57   \n",
       "9                 17.0                 102.0   0.9978  3.35       0.80   \n",
       "\n",
       "   alcohol  quality  \n",
       "0      9.4        5  \n",
       "1      9.8        5  \n",
       "2      9.8        5  \n",
       "3      9.8        6  \n",
       "4      9.4        5  \n",
       "5      9.4        5  \n",
       "6      9.4        5  \n",
       "7     10.0        7  \n",
       "8      9.5        7  \n",
       "9     10.5        5  "
      ]
     },
     "execution_count": 5,
     "metadata": {},
     "output_type": "execute_result"
    }
   ],
   "source": [
    "## Load the datasets into dataframes.\n",
    "wineData = pd.read_csv(\"/Users/sdamaraju/PycharmProjects/738-ML/Probably-Interesting-Data-Project-1/data/winequality-red.csv\")\n",
    "wineData.head(10)"
   ]
  },
  {
   "cell_type": "markdown",
   "metadata": {},
   "source": [
    "### Evaluate from the above dataset to identify two such features which are visually distributed along more than one cluster and picking those features so that I can get multiple clusters of data where there is a possible overlap of data points and that is where the Gaussian mixture models can be applied.\n",
    "\n",
    "####  Based on observation, considering \"citric_acid\" and \"volatile acidity\""
   ]
  },
  {
   "cell_type": "code",
   "execution_count": 6,
   "metadata": {},
   "outputs": [],
   "source": [
    "citricAcid = wineData['citric acid']\n",
    "volatileAcidity = wineData['volatile acidity']"
   ]
  },
  {
   "cell_type": "markdown",
   "metadata": {},
   "source": [
    "# Citric Acid Univariate analysis."
   ]
  },
  {
   "cell_type": "markdown",
   "metadata": {},
   "source": [
    "### Initial distribution plotting using the seaborn library."
   ]
  },
  {
   "cell_type": "code",
   "execution_count": 7,
   "metadata": {},
   "outputs": [
    {
     "data": {
      "text/plain": [
       "<matplotlib.axes._subplots.AxesSubplot at 0x7fbdcf6e46d0>"
      ]
     },
     "execution_count": 7,
     "metadata": {},
     "output_type": "execute_result"
    },
    {
     "data": {
      "image/png": "[encoded data removed]",
      "text/plain": [
       "<Figure size 432x288 with 1 Axes>"
      ]
     },
     "metadata": {
      "needs_background": "light"
     },
     "output_type": "display_data"
    }
   ],
   "source": [
    "sns.distplot(citricAcid)"
   ]
  },
  {
   "cell_type": "markdown",
   "metadata": {},
   "source": [
    "### Citric Acid- GMM - EM algorithm call.\n",
    "\n",
    "### From the plot above, I can see that there are three possible gaussians into which the data points can be classified into. \n",
    "### We can also observe that their possible means can be 0.05,0.25 and 0.5. So keeping them as the initial means.\n",
    "### A rough estimation of initial sigma values being taken are calculated as the squares of difference between the mean and the midpoint of the x axis region plotted by histogram"
   ]
  },
  {
   "cell_type": "code",
   "execution_count": 8,
   "metadata": {},
   "outputs": [
    {
     "name": "stdout",
     "output_type": "stream",
     "text": [
      "Converged after 3 iterations.\n"
     ]
    },
    {
     "data": {
      "image/png": "[encoded data removed]",
      "text/plain": [
       "<Figure size 1080x216 with 2 Axes>"
      ]
     },
     "metadata": {
      "needs_background": "light"
     },
     "output_type": "display_data"
    }
   ],
   "source": [
    "initialParams = {'gaussians':3, 'mean':[0.05, 0.25, 0.55], 'sigma':[0.12,0.02,0.02]}\n",
    "runEM(citricAcid, initialParams, \"Citric acid\", 0.005)"
   ]
  },
  {
   "cell_type": "markdown",
   "metadata": {},
   "source": [
    "# Volatile Acidity Univariate analysis."
   ]
  },
  {
   "cell_type": "markdown",
   "metadata": {},
   "source": [
    "### Initial distribution plotting using the seaborn library."
   ]
  },
  {
   "cell_type": "code",
   "execution_count": 9,
   "metadata": {},
   "outputs": [
    {
     "data": {
      "text/plain": [
       "<matplotlib.axes._subplots.AxesSubplot at 0x7fbdd0897ca0>"
      ]
     },
     "execution_count": 9,
     "metadata": {},
     "output_type": "execute_result"
    },
    {
     "data": {
      "image/png": "[encoded data removed]",
      "text/plain": [
       "<Figure size 432x288 with 1 Axes>"
      ]
     },
     "metadata": {
      "needs_background": "light"
     },
     "output_type": "display_data"
    }
   ],
   "source": [
    "sns.distplot(volatileAcidity)"
   ]
  },
  {
   "cell_type": "markdown",
   "metadata": {},
   "source": [
    "### Volatile Acidity- GMM - EM algorithm call.\n",
    "\n",
    "### From the plot above, I can see that there are two possible gaussians into which the data points can be classified into. \n",
    "### We can also observe that their possible means can be 0.375,0.675. So keeping them as the initial means.\n",
    "\n",
    "### A rough estimation of initial sigma values being taken are calculated as the squares of difference between the mean and the midpoint of the x axis region plotted by histogram"
   ]
  },
  {
   "cell_type": "code",
   "execution_count": 10,
   "metadata": {},
   "outputs": [
    {
     "name": "stdout",
     "output_type": "stream",
     "text": [
      "Converged after 5 iterations.\n"
     ]
    },
    {
     "data": {
      "image/png": "[encoded data removed]",
      "text/plain": [
       "<Figure size 1080x216 with 2 Axes>"
      ]
     },
     "metadata": {
      "needs_background": "light"
     },
     "output_type": "display_data"
    }
   ],
   "source": [
    "initialParams = {'gaussians':2, 'mean':[0.375,0.675], 'sigma':[0.016,0.031]}\n",
    "runEM(volatileAcidity, initialParams, \"Volatile acidity\", 0.005)"
   ]
  },
  {
   "cell_type": "markdown",
   "metadata": {},
   "source": [
    "# Analysis on DataSet - 2 : PowerConsumption Dataset"
   ]
  },
  {
   "cell_type": "code",
   "execution_count": 11,
   "metadata": {},
   "outputs": [
    {
     "data": {
      "text/html": [
       "<div>\n",
       "<style scoped>\n",
       "    .dataframe tbody tr th:only-of-type {\n",
       "        vertical-align: middle;\n",
       "    }\n",
       "\n",
       "    .dataframe tbody tr th {\n",
       "        vertical-align: top;\n",
       "    }\n",
       "\n",
       "    .dataframe thead th {\n",
       "        text-align: right;\n",
       "    }\n",
       "</style>\n",
       "<table border=\"1\" class=\"dataframe\">\n",
       "  <thead>\n",
       "    <tr style=\"text-align: right;\">\n",
       "      <th></th>\n",
       "      <th>Date</th>\n",
       "      <th>Time</th>\n",
       "      <th>Global_active_power</th>\n",
       "      <th>Global_reactive_power</th>\n",
       "      <th>Voltage</th>\n",
       "      <th>Global_intensity</th>\n",
       "      <th>Sub_metering_1</th>\n",
       "      <th>Sub_metering_2</th>\n",
       "      <th>Sub_metering_3</th>\n",
       "    </tr>\n",
       "  </thead>\n",
       "  <tbody>\n",
       "    <tr>\n",
       "      <th>0</th>\n",
       "      <td>16/12/2006</td>\n",
       "      <td>17:24:00</td>\n",
       "      <td>4.216</td>\n",
       "      <td>0.418</td>\n",
       "      <td>234.84</td>\n",
       "      <td>18.4</td>\n",
       "      <td>0</td>\n",
       "      <td>1</td>\n",
       "      <td>17</td>\n",
       "    </tr>\n",
       "    <tr>\n",
       "      <th>1</th>\n",
       "      <td>16/12/2006</td>\n",
       "      <td>17:25:00</td>\n",
       "      <td>5.360</td>\n",
       "      <td>0.436</td>\n",
       "      <td>233.63</td>\n",
       "      <td>23.0</td>\n",
       "      <td>0</td>\n",
       "      <td>1</td>\n",
       "      <td>16</td>\n",
       "    </tr>\n",
       "    <tr>\n",
       "      <th>2</th>\n",
       "      <td>16/12/2006</td>\n",
       "      <td>17:26:00</td>\n",
       "      <td>5.374</td>\n",
       "      <td>0.498</td>\n",
       "      <td>233.29</td>\n",
       "      <td>23.0</td>\n",
       "      <td>0</td>\n",
       "      <td>2</td>\n",
       "      <td>17</td>\n",
       "    </tr>\n",
       "    <tr>\n",
       "      <th>3</th>\n",
       "      <td>16/12/2006</td>\n",
       "      <td>17:27:00</td>\n",
       "      <td>5.388</td>\n",
       "      <td>0.502</td>\n",
       "      <td>233.74</td>\n",
       "      <td>23.0</td>\n",
       "      <td>0</td>\n",
       "      <td>1</td>\n",
       "      <td>17</td>\n",
       "    </tr>\n",
       "    <tr>\n",
       "      <th>4</th>\n",
       "      <td>16/12/2006</td>\n",
       "      <td>17:28:00</td>\n",
       "      <td>3.666</td>\n",
       "      <td>0.528</td>\n",
       "      <td>235.68</td>\n",
       "      <td>15.8</td>\n",
       "      <td>0</td>\n",
       "      <td>1</td>\n",
       "      <td>17</td>\n",
       "    </tr>\n",
       "    <tr>\n",
       "      <th>5</th>\n",
       "      <td>16/12/2006</td>\n",
       "      <td>17:29:00</td>\n",
       "      <td>3.520</td>\n",
       "      <td>0.522</td>\n",
       "      <td>235.02</td>\n",
       "      <td>15.0</td>\n",
       "      <td>0</td>\n",
       "      <td>2</td>\n",
       "      <td>17</td>\n",
       "    </tr>\n",
       "    <tr>\n",
       "      <th>6</th>\n",
       "      <td>16/12/2006</td>\n",
       "      <td>17:30:00</td>\n",
       "      <td>3.702</td>\n",
       "      <td>0.520</td>\n",
       "      <td>235.09</td>\n",
       "      <td>15.8</td>\n",
       "      <td>0</td>\n",
       "      <td>1</td>\n",
       "      <td>17</td>\n",
       "    </tr>\n",
       "    <tr>\n",
       "      <th>7</th>\n",
       "      <td>16/12/2006</td>\n",
       "      <td>17:31:00</td>\n",
       "      <td>3.700</td>\n",
       "      <td>0.520</td>\n",
       "      <td>235.22</td>\n",
       "      <td>15.8</td>\n",
       "      <td>0</td>\n",
       "      <td>1</td>\n",
       "      <td>17</td>\n",
       "    </tr>\n",
       "    <tr>\n",
       "      <th>8</th>\n",
       "      <td>16/12/2006</td>\n",
       "      <td>17:32:00</td>\n",
       "      <td>3.668</td>\n",
       "      <td>0.510</td>\n",
       "      <td>233.99</td>\n",
       "      <td>15.8</td>\n",
       "      <td>0</td>\n",
       "      <td>1</td>\n",
       "      <td>17</td>\n",
       "    </tr>\n",
       "    <tr>\n",
       "      <th>9</th>\n",
       "      <td>16/12/2006</td>\n",
       "      <td>17:33:00</td>\n",
       "      <td>3.662</td>\n",
       "      <td>0.510</td>\n",
       "      <td>233.86</td>\n",
       "      <td>15.8</td>\n",
       "      <td>0</td>\n",
       "      <td>2</td>\n",
       "      <td>16</td>\n",
       "    </tr>\n",
       "  </tbody>\n",
       "</table>\n",
       "</div>"
      ],
      "text/plain": [
       "         Date      Time  Global_active_power  Global_reactive_power  Voltage  \\\n",
       "0  16/12/2006  17:24:00                4.216                  0.418   234.84   \n",
       "1  16/12/2006  17:25:00                5.360                  0.436   233.63   \n",
       "2  16/12/2006  17:26:00                5.374                  0.498   233.29   \n",
       "3  16/12/2006  17:27:00                5.388                  0.502   233.74   \n",
       "4  16/12/2006  17:28:00                3.666                  0.528   235.68   \n",
       "5  16/12/2006  17:29:00                3.520                  0.522   235.02   \n",
       "6  16/12/2006  17:30:00                3.702                  0.520   235.09   \n",
       "7  16/12/2006  17:31:00                3.700                  0.520   235.22   \n",
       "8  16/12/2006  17:32:00                3.668                  0.510   233.99   \n",
       "9  16/12/2006  17:33:00                3.662                  0.510   233.86   \n",
       "\n",
       "   Global_intensity  Sub_metering_1  Sub_metering_2  Sub_metering_3  \n",
       "0              18.4               0               1              17  \n",
       "1              23.0               0               1              16  \n",
       "2              23.0               0               2              17  \n",
       "3              23.0               0               1              17  \n",
       "4              15.8               0               1              17  \n",
       "5              15.0               0               2              17  \n",
       "6              15.8               0               1              17  \n",
       "7              15.8               0               1              17  \n",
       "8              15.8               0               1              17  \n",
       "9              15.8               0               2              16  "
      ]
     },
     "execution_count": 11,
     "metadata": {},
     "output_type": "execute_result"
    }
   ],
   "source": [
    "## Load the datasets into dataframes.\n",
    "powerConsumption = pd.read_csv(\"/Users/sdamaraju/PycharmProjects/738-ML/Probably-Interesting-Data-Project-1/data/house_hold_power_consumption.csv\")\n",
    "powerConsumption.head(10)"
   ]
  },
  {
   "cell_type": "markdown",
   "metadata": {},
   "source": [
    "### Evaluate from the above dataset to identify two such features which are visually distributed along more than one cluster and picking those features so that I can get multiple clusters of data where there is a possible overlap of data points and that is where the Gaussian mixture models can be applied.\n",
    "\n",
    "####  Based on observation, considering \"citric_acid\" and \"volatile acidity\""
   ]
  },
  {
   "cell_type": "code",
   "execution_count": 12,
   "metadata": {},
   "outputs": [],
   "source": [
    "globalIntensity = powerConsumption['Global_intensity']\n",
    "globalReactivepower = powerConsumption['Global_reactive_power']"
   ]
  },
  {
   "cell_type": "markdown",
   "metadata": {},
   "source": [
    "# Global Intensity Univariate analysis."
   ]
  },
  {
   "cell_type": "markdown",
   "metadata": {},
   "source": [
    "### Initial distribution plotting using the seaborn library."
   ]
  },
  {
   "cell_type": "code",
   "execution_count": 13,
   "metadata": {},
   "outputs": [
    {
     "data": {
      "text/plain": [
       "<matplotlib.axes._subplots.AxesSubplot at 0x7fbdd0a642b0>"
      ]
     },
     "execution_count": 13,
     "metadata": {},
     "output_type": "execute_result"
    },
    {
     "data": {
      "image/png": "[encoded data removed]",
      "text/plain": [
       "<Figure size 432x288 with 1 Axes>"
      ]
     },
     "metadata": {
      "needs_background": "light"
     },
     "output_type": "display_data"
    }
   ],
   "source": [
    "sns.distplot(globalIntensity)"
   ]
  },
  {
   "cell_type": "markdown",
   "metadata": {},
   "source": [
    "### Global Intensity- GMM - EM algorithm call.\n",
    "\n",
    "### From the plot above, I can see that there are three possible gaussians into which the data points can be classified into. \n",
    "### We can also observe that their possible means can be 1.5,7.5 and 14. So keeping them as the initial means.\n",
    "\n",
    "### Evaluating the initial sigma values to be possible midpoint of the x axis where the histogram is plotted, i.e 10."
   ]
  },
  {
   "cell_type": "code",
   "execution_count": 14,
   "metadata": {},
   "outputs": [
    {
     "name": "stdout",
     "output_type": "stream",
     "text": [
      "Converged after 25 iterations.\n"
     ]
    },
    {
     "data": {
      "image/png": "[encoded data removed]",
      "text/plain": [
       "<Figure size 1080x216 with 2 Axes>"
      ]
     },
     "metadata": {
      "needs_background": "light"
     },
     "output_type": "display_data"
    }
   ],
   "source": [
    "initialParams = {'gaussians':3, 'mean':[1.5, 7.5, 14], 'sigma':[10,10,10]}\n",
    "runEM(globalIntensity, initialParams, \"Global Intensity\", 0.1)"
   ]
  },
  {
   "cell_type": "markdown",
   "metadata": {},
   "source": [
    "# Global Reactive Power Univariate analysis.\n"
   ]
  },
  {
   "cell_type": "markdown",
   "metadata": {},
   "source": [
    "### Initial distribution plotting using the seaborn library."
   ]
  },
  {
   "cell_type": "code",
   "execution_count": 15,
   "metadata": {},
   "outputs": [
    {
     "data": {
      "text/plain": [
       "<matplotlib.axes._subplots.AxesSubplot at 0x7fbdcf7ebf70>"
      ]
     },
     "execution_count": 15,
     "metadata": {},
     "output_type": "execute_result"
    },
    {
     "data": {
      "image/png": "[encoded data removed]",
      "text/plain": [
       "<Figure size 432x288 with 1 Axes>"
      ]
     },
     "metadata": {
      "needs_background": "light"
     },
     "output_type": "display_data"
    }
   ],
   "source": [
    "sns.distplot(globalReactivepower)"
   ]
  },
  {
   "cell_type": "markdown",
   "metadata": {},
   "source": [
    "### Global Reactive Power- GMM - EM algorithm call.\n",
    "\n",
    "### From the plot above, I can see that there are three possible gaussians into which the data points can be classified into but I would like to consider just 2 clusters this time, to see if a business logic requirement like, segmentation into either high reactive power or low reactive power is needed, then though the picture says 3 clusters, the business actually needs just 2 clusters of classified data.\n",
    "\n",
    "### We can also observe that their possible means can be 0.1,0.18, So keeping them as the initial means.\n",
    "\n",
    "### Evaluating the initial sigma values to be possible midpoint of the x axis where the histogram is plotted, i.e 0.25 ."
   ]
  },
  {
   "cell_type": "code",
   "execution_count": 16,
   "metadata": {},
   "outputs": [
    {
     "name": "stdout",
     "output_type": "stream",
     "text": [
      "Converged after 10 iterations.\n"
     ]
    },
    {
     "data": {
      "image/png": "[encoded data removed]",
      "text/plain": [
       "<Figure size 1080x216 with 2 Axes>"
      ]
     },
     "metadata": {
      "needs_background": "light"
     },
     "output_type": "display_data"
    }
   ],
   "source": [
    "initialParams = {'gaussians':2, 'mean':[0.1,0.18], 'sigma':[0.25,0.25]}\n",
    "runEM(globalReactivepower, initialParams, \"Global reactive Power\", 0.005)"
   ]
  },
  {
   "cell_type": "markdown",
   "metadata": {},
   "source": [
    "### Observations\n",
    "\n",
    "The gaussian mixture model with EM shows a great distribution of the individual attributes of the wine quality and power consumption dataset.\n",
    "\n",
    "Initially when I considered random initial values, I got very strange graphs as output but, once I evaluated the mean from the initial plots and approximated sigma values helped me get better plots.\n",
    "\n",
    "So, I feel that a lot depends upon the initial values being considered as well.\n",
    "\n",
    "Also, I felt sometimes during this project that K, as in the clusters, should not be pictorially identified rather it has to be identified more by business scenario requirement. \n",
    "\n",
    "Upon multiple runs, \n",
    "I identified that the convergence condition sometimes doesn't meet so I added a max iteration count.\n",
    "That's because attribute value ranges decide the mean value difference and the threshold for the delta of the means will not be a constant value for different attributes or datasets, hence I made that a function param to runEM and passed the threshold value to the method.\n"
   ]
  }
 ],
 "metadata": {
  "kernelspec": {
   "display_name": "Python 3",
   "language": "python",
   "name": "python3"
  },
  "language_info": {
   "codemirror_mode": {
    "name": "ipython",
    "version": 3
   },
   "file_extension": ".py",
   "mimetype": "text/x-python",
   "name": "python",
   "nbconvert_exporter": "python",
   "pygments_lexer": "ipython3",
   "version": "3.8.3"
  }
 },
 "nbformat": 4,
 "nbformat_minor": 4
}
